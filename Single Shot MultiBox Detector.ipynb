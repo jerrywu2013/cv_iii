{
 "cells": [
  {
   "cell_type": "code",
   "execution_count": null,
   "metadata": {
    "collapsed": true
   },
   "outputs": [],
   "source": [
    "# Object Detection\n",
    "\n",
    "# Importing the libraries\n",
    "import torch\n",
    "from torch.autograd import Variable\n",
    "import cv2\n",
    "from data import BaseTransform, VOC_CLASSES as labelmap\n",
    "from ssd import build_ssd\n",
    "import imageio\n",
    "\n",
    "# Defining a function that will do the detections\n",
    "def detect(frame, net, transform): #定義一個檢測函數叫做Detect，Frame是每一個畫面，net是SSD，以及圖像轉換。\n",
    "    height, width = frame.shape[:2] #提取每一個Frame的寬高\n",
    "    frame_t = transform(frame)[0] #將Frame進行轉換\n",
    "    x = torch.from_numpy(frame_t).permute(2, 0, 1) #將Frame轉換為Torch Tensor\n",
    "    x = Variable(x.unsqueeze(0)) #因為樣本只有一個，所以採用unsqueeze建立一個假維度，Torch不接受單一樣本\n",
    "    y = net(x) #將神經網路結果輸出y\n",
    "    detections = y.data #建立一個包含y的Detections Tensor\n",
    "    scale = torch.Tensor([width, height, width, height])#建立一個符合圖像寬高的Tensor物件\n",
    "    # detections = [batch, number of classes, number of occurence, (score, x0, Y0, x1, y1)]\n",
    "    for i in range(detections.size(1)): #對每一個Class\n",
    "        j = 0 #初始化循環\n",
    "        while detections[0, i, j, 0] >= 0.6: #考慮大於0.6的第i類的所有事件j\n",
    "            pt = (detections[0, i, j, 1:] * scale).numpy() #獲得檢測方框的左上跟右下角座標\n",
    "            cv2.rectangle(frame, (int(pt[0]), int(pt[1])), (int(pt[2]), int(pt[3])), (255, 0, 0), 2)#繪製方框\n",
    "            cv2.putText(frame, labelmap[i - 1], (int(pt[0]), int(pt[1])), cv2.FONT_HERSHEY_SIMPLEX, 2, (255, 255, 255), 2, cv2.LINE_AA)#加上文字\n",
    "            j += 1 #增加j到下一個事件\n",
    "    return frame\n",
    "\n",
    "# Creating the SSD neural network\n",
    "net = build_ssd('test') #建立一個Object為SSD\n",
    "net.load_state_dict(torch.load('ssd300_mAP_77.43_v2.pth', map_location = lambda storage, loc: storage))\n",
    "#從另一個神經網路ssd300_mAP_77.43_v2.pth取得權重\n",
    "\n",
    "\n",
    "# Creating the transformation\n",
    "transform = BaseTransform(net.size, (104/256.0, 117/256.0, 123/256.0))#用BaseTransform將圖像做必要的轉換，以便做神經網路輸入\n",
    "\n",
    "# Doing some Object Detection on a video\n",
    "reader = imageio.get_reader('funny_dog.mp4') #匯入影片\n",
    "fps = reader.get_meta_data()['fps'] #取得Frame的頻率\n",
    "writer = imageio.get_writer('output.mp4', fps = fps) #產生影片輸出\n",
    "for i, frame in enumerate(reader): #進行影片中每一個Frame的迴圈\n",
    "    frame = ㄏ(frame, net.eval(), transform) #調用前面寫好的detect函數\n",
    "    writer.append_data(frame) #每一次的Frame都append上去\n",
    "    print(i) #印出處理好的Frame\n",
    "writer.close()"
   ]
  }
 ],
 "metadata": {
  "kernelspec": {
   "display_name": "Python 3",
   "language": "python",
   "name": "python3"
  },
  "language_info": {
   "codemirror_mode": {
    "name": "ipython",
    "version": 3
   },
   "file_extension": ".py",
   "mimetype": "text/x-python",
   "name": "python",
   "nbconvert_exporter": "python",
   "pygments_lexer": "ipython3",
   "version": "3.6.3"
  }
 },
 "nbformat": 4,
 "nbformat_minor": 2
}
